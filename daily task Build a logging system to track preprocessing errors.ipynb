{
 "cells": [
  {
   "cell_type": "code",
   "execution_count": null,
   "id": "4cf0ca56",
   "metadata": {},
   "outputs": [],
   "source": []
  },
  {
   "cell_type": "code",
   "execution_count": null,
   "id": "22188ca2",
   "metadata": {},
   "outputs": [],
   "source": []
  },
  {
   "cell_type": "code",
   "execution_count": 1,
   "id": "c0e17832",
   "metadata": {},
   "outputs": [],
   "source": [
    "# Import necessary libraries\n",
    "import logging\n",
    "import pandas as pd\n",
    "import numpy as np"
   ]
  },
  {
   "cell_type": "code",
   "execution_count": 2,
   "id": "24c1e2c5",
   "metadata": {},
   "outputs": [],
   "source": [
    "# Step 1: Configure Logging\n",
    "# Set up logging configuration to capture errors in a log file and console\n",
    "logging.basicConfig(\n",
    "    level=logging.INFO,  # Set to INFO; adjust to ERROR or WARNING as needed\n",
    "    format='%(asctime)s - %(levelname)s - %(message)s',\n",
    "    handlers=[\n",
    "        logging.FileHandler(\"preprocessing_errors.log\"),  # Log file\n",
    "        logging.StreamHandler()  # Console output\n",
    "    ]\n",
    ")"
   ]
  },
  {
   "cell_type": "code",
   "execution_count": 3,
   "id": "561baae3",
   "metadata": {},
   "outputs": [],
   "source": [
    "\n",
    "# Function to log and raise errors\n",
    "def log_error(message, raise_exception=False):\n",
    "    logging.error(message)\n",
    "    if raise_exception:\n",
    "        raise ValueError(message)"
   ]
  },
  {
   "cell_type": "code",
   "execution_count": 4,
   "id": "a284cbe1",
   "metadata": {},
   "outputs": [],
   "source": [
    "# Step 2: Sample Data Loading and Preprocessing\n",
    "def load_data():\n",
    "    # Load sample data (for demonstration purposes, we create a small DataFrame)\n",
    "    data = {\n",
    "        'A': [1, 2, np.nan, 4],\n",
    "        'B': ['x', 'y', 'z', None],\n",
    "        'C': [10, 20, 30, 40]\n",
    "    }\n",
    "    df = pd.DataFrame(data)\n",
    "    logging.info(\"Data loaded successfully.\")\n",
    "    return df\n",
    "\n",
    "def preprocess_data(df):\n",
    "    try:\n",
    "        # Check for missing values and log them\n",
    "        if df.isnull().values.any():\n",
    "            missing_info = df.isnull().sum().to_dict()\n",
    "            log_error(f\"Missing values found: {missing_info}\")\n",
    "\n",
    "        # Attempt to convert all columns to integers, logging any errors\n",
    "        for col in df.columns:\n",
    "            if df[col].dtype == 'object':\n",
    "                continue  # Skip non-numeric columns\n",
    "            try:\n",
    "                df[col] = df[col].astype(int)\n",
    "            except ValueError as e:\n",
    "                log_error(f\"Conversion error in column '{col}': {e}\")\n",
    "\n",
    "        # Simulate another preprocessing step\n",
    "        # Example: Check if column A values are within a specific range\n",
    "        if not ((df['A'] >= 1) & (df['A'] <= 5)).all():\n",
    "            log_error(\"Values in column 'A' are out of the expected range (1-5)\")\n",
    "\n",
    "        logging.info(\"Data preprocessing completed successfully.\")\n",
    "    except Exception as e:\n",
    "        logging.critical(f\"An unexpected error occurred during preprocessing: {e}\")\n",
    "        raise e\n"
   ]
  },
  {
   "cell_type": "code",
   "execution_count": 5,
   "id": "0e90c492",
   "metadata": {},
   "outputs": [
    {
     "name": "stderr",
     "output_type": "stream",
     "text": [
      "2024-11-04 10:25:10,288 - INFO - Data loaded successfully.\n",
      "2024-11-04 10:25:10,300 - ERROR - Missing values found: {'A': 1, 'B': 1, 'C': 0}\n",
      "2024-11-04 10:25:10,304 - ERROR - Conversion error in column 'A': Cannot convert non-finite values (NA or inf) to integer\n",
      "2024-11-04 10:25:10,310 - ERROR - Values in column 'A' are out of the expected range (1-5)\n",
      "2024-11-04 10:25:10,313 - INFO - Data preprocessing completed successfully.\n"
     ]
    },
    {
     "data": {
      "text/html": [
       "<div>\n",
       "<style scoped>\n",
       "    .dataframe tbody tr th:only-of-type {\n",
       "        vertical-align: middle;\n",
       "    }\n",
       "\n",
       "    .dataframe tbody tr th {\n",
       "        vertical-align: top;\n",
       "    }\n",
       "\n",
       "    .dataframe thead th {\n",
       "        text-align: right;\n",
       "    }\n",
       "</style>\n",
       "<table border=\"1\" class=\"dataframe\">\n",
       "  <thead>\n",
       "    <tr style=\"text-align: right;\">\n",
       "      <th></th>\n",
       "      <th>A</th>\n",
       "      <th>B</th>\n",
       "      <th>C</th>\n",
       "    </tr>\n",
       "  </thead>\n",
       "  <tbody>\n",
       "    <tr>\n",
       "      <th>0</th>\n",
       "      <td>1.0</td>\n",
       "      <td>x</td>\n",
       "      <td>10</td>\n",
       "    </tr>\n",
       "    <tr>\n",
       "      <th>1</th>\n",
       "      <td>2.0</td>\n",
       "      <td>y</td>\n",
       "      <td>20</td>\n",
       "    </tr>\n",
       "    <tr>\n",
       "      <th>2</th>\n",
       "      <td>NaN</td>\n",
       "      <td>z</td>\n",
       "      <td>30</td>\n",
       "    </tr>\n",
       "    <tr>\n",
       "      <th>3</th>\n",
       "      <td>4.0</td>\n",
       "      <td>None</td>\n",
       "      <td>40</td>\n",
       "    </tr>\n",
       "  </tbody>\n",
       "</table>\n",
       "</div>"
      ],
      "text/plain": [
       "     A     B   C\n",
       "0  1.0     x  10\n",
       "1  2.0     y  20\n",
       "2  NaN     z  30\n",
       "3  4.0  None  40"
      ]
     },
     "execution_count": 5,
     "metadata": {},
     "output_type": "execute_result"
    }
   ],
   "source": [
    "\n",
    "# Step 3: Execute the Loading and Preprocessing\n",
    "try:\n",
    "    df = load_data()  # Load data\n",
    "    preprocess_data(df)  # Run preprocessing with error logging\n",
    "except Exception as e:\n",
    "    logging.critical(f\"Pipeline halted due to an error: {e}\")\n",
    "\n",
    "# Display the resulting DataFrame\n",
    "df"
   ]
  },
  {
   "cell_type": "code",
   "execution_count": null,
   "id": "0cd3af1b",
   "metadata": {},
   "outputs": [],
   "source": []
  }
 ],
 "metadata": {
  "kernelspec": {
   "display_name": "Python 3 (ipykernel)",
   "language": "python",
   "name": "python3"
  },
  "language_info": {
   "codemirror_mode": {
    "name": "ipython",
    "version": 3
   },
   "file_extension": ".py",
   "mimetype": "text/x-python",
   "name": "python",
   "nbconvert_exporter": "python",
   "pygments_lexer": "ipython3",
   "version": "3.10.13"
  }
 },
 "nbformat": 4,
 "nbformat_minor": 5
}
